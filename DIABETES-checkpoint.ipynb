{
 "cells": [
  {
   "cell_type": "code",
   "execution_count": 1,
   "id": "cda1692f-1fbc-427e-bac2-4cca7a6c73c3",
   "metadata": {},
   "outputs": [
    {
     "name": "stdout",
     "output_type": "stream",
     "text": [
      "\n",
      "\n",
      "Diabetes Dataset:\n",
      "   Pregnancies  Glucose  BloodPressure  SkinThickness  Insulin   BMI  \\\n",
      "0            6      148             72             35        0  33.6   \n",
      "1            1       85             66             29        0  26.6   \n",
      "2            8      183             64              0        0  23.3   \n",
      "3            1       89             66             23       94  28.1   \n",
      "4            0      137             40             35      168  43.1   \n",
      "\n",
      "   DiabetesPedigreeFunction  Age  Outcome  \n",
      "0                     0.627   50        1  \n",
      "1                     0.351   31        0  \n",
      "2                     0.672   32        1  \n",
      "3                     0.167   21        0  \n",
      "4                     2.288   33        1  \n"
     ]
    }
   ],
   "source": [
    "import pandas as pd\n",
    "import numpy as np\n",
    "\n",
    "diabetes_df = pd.read_csv('diabetes (1).csv')\n",
    "\n",
    "\n",
    "print(\"\\n\\nDiabetes Dataset:\")\n",
    "print(diabetes_df.head())"
   ]
  },
  {
   "cell_type": "code",
   "execution_count": 2,
   "id": "5ad8b5bc-def9-4a90-b3bf-fd9aba5c527d",
   "metadata": {},
   "outputs": [
    {
     "name": "stdout",
     "output_type": "stream",
     "text": [
      "\n",
      "Missing values in Diabetes Dataset:\n",
      "Pregnancies                 0\n",
      "Glucose                     0\n",
      "BloodPressure               0\n",
      "SkinThickness               0\n",
      "Insulin                     0\n",
      "BMI                         0\n",
      "DiabetesPedigreeFunction    0\n",
      "Age                         0\n",
      "Outcome                     0\n",
      "dtype: int64\n"
     ]
    }
   ],
   "source": [
    "\n",
    "print(\"\\nMissing values in Diabetes Dataset:\")\n",
    "print(diabetes_df.isnull().sum())\n",
    "\n"
   ]
  },
  {
   "cell_type": "code",
   "execution_count": 3,
   "id": "a844ca3e-0714-437a-8faf-2781df58409d",
   "metadata": {},
   "outputs": [],
   "source": [
    "#Scale Numerical Features (Standardization)\n",
    "from sklearn.preprocessing import StandardScaler\n",
    "\n",
    "scaler = StandardScaler()\n",
    "\n",
    "# Replace zero BloodPressure values with median\n",
    "diabetes_df['BloodPressure'].replace(0, diabetes_df['BloodPressure'].median(), inplace=True)\n",
    "\n",
    "zero_cols = ['Glucose', 'BloodPressure', 'SkinThickness', 'Insulin', 'BMI']\n",
    "\n",
    "for col in zero_cols:\n",
    "    diabetes_df[col].replace(0, diabetes_df[col].median(), inplace=True)\n",
    "\n",
    "\n",
    "# Scale relevant columns\n",
    "diabetes_df[['Glucose', 'BloodPressure', 'SkinThickness', 'Insulin', 'BMI']] = scaler.fit_transform(diabetes_df[['Glucose', 'BloodPressure', 'SkinThickness', 'Insulin', 'BMI']])\n"
   ]
  },
  {
   "cell_type": "code",
   "execution_count": 4,
   "id": "e6f752e3-36ae-4901-8001-f1f2f88f9ffd",
   "metadata": {},
   "outputs": [],
   "source": [
    "#Split the Data into Train & Test Sets\n",
    "from sklearn.model_selection import train_test_split\n",
    "\n",
    "# Diabetes Dataset\n",
    "X_diabetes = diabetes_df.drop('Outcome', axis=1)\n",
    "y_diabetes = diabetes_df['Outcome']\n",
    "X_train_diabetes, X_test_diabetes, y_train_diabetes, y_test_diabetes = train_test_split(X_diabetes, y_diabetes, test_size=0.2, random_state=42)\n",
    "\n"
   ]
  },
  {
   "cell_type": "code",
   "execution_count": 5,
   "id": "95ceb4ec-2ce8-40ce-9605-ce1bfa7f0a6a",
   "metadata": {},
   "outputs": [
    {
     "name": "stdout",
     "output_type": "stream",
     "text": [
      "📌 **Diabetes - Logistic Regression Performance**\n",
      "Accuracy: 0.7662\n",
      "              precision    recall  f1-score   support\n",
      "\n",
      "           0       0.81      0.83      0.82        99\n",
      "           1       0.68      0.65      0.67        55\n",
      "\n",
      "    accuracy                           0.77       154\n",
      "   macro avg       0.75      0.74      0.74       154\n",
      "weighted avg       0.76      0.77      0.77       154\n",
      "\n"
     ]
    }
   ],
   "source": [
    "from sklearn.linear_model import LogisticRegression\n",
    "from sklearn.metrics import accuracy_score, classification_report\n",
    "\n",
    "# Train and evaluate the model for diabetes\n",
    "model = LogisticRegression(max_iter=1000)\n",
    "model.fit(X_train_diabetes, y_train_diabetes)\n",
    "y_pred = model.predict(X_test_diabetes)\n",
    "\n",
    "print(\"📌 **Diabetes - Logistic Regression Performance**\")\n",
    "print(f\"Accuracy: {accuracy_score(y_test_diabetes, y_pred):.4f}\")\n",
    "print(classification_report(y_test_diabetes, y_pred))\n"
   ]
  },
  {
   "cell_type": "code",
   "execution_count": 6,
   "id": "bfafe63c-4217-49bb-920c-c2d84461385b",
   "metadata": {},
   "outputs": [
    {
     "name": "stdout",
     "output_type": "stream",
     "text": [
      "Diabetes model saved successfully!\n"
     ]
    }
   ],
   "source": [
    "\n",
    "\n",
    "import joblib\n",
    "\n",
    "# Save the best model (Logistic Regression)\n",
    "joblib.dump(model, \"logreg_diabetes.joblib\")\n",
    "\n",
    "print(\"Diabetes model saved successfully!\")\n"
   ]
  }
 ],
 "metadata": {
  "kernelspec": {
   "display_name": "Python 3 (ipykernel)",
   "language": "python",
   "name": "python3"
  },
  "language_info": {
   "codemirror_mode": {
    "name": "ipython",
    "version": 3
   },
   "file_extension": ".py",
   "mimetype": "text/x-python",
   "name": "python",
   "nbconvert_exporter": "python",
   "pygments_lexer": "ipython3",
   "version": "3.11.7"
  }
 },
 "nbformat": 4,
 "nbformat_minor": 5
}
